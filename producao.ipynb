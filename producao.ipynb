{
 "cells": [
  {
   "cell_type": "code",
   "execution_count": 1,
   "id": "dffb2686",
   "metadata": {},
   "outputs": [
    {
     "name": "stdout",
     "output_type": "stream",
     "text": [
      "Requirement already satisfied: nltk in c:\\users\\jessica\\appdata\\local\\programs\\python\\python311\\lib\\site-packages (3.9.1)\n",
      "Requirement already satisfied: textblob in c:\\users\\jessica\\appdata\\local\\programs\\python\\python311\\lib\\site-packages (0.19.0)\n",
      "Requirement already satisfied: click in c:\\users\\jessica\\appdata\\local\\programs\\python\\python311\\lib\\site-packages (from nltk) (8.1.7)\n",
      "Requirement already satisfied: joblib in c:\\users\\jessica\\appdata\\local\\programs\\python\\python311\\lib\\site-packages (from nltk) (1.5.0)\n",
      "Requirement already satisfied: regex>=2021.8.3 in c:\\users\\jessica\\appdata\\local\\programs\\python\\python311\\lib\\site-packages (from nltk) (2024.9.11)\n",
      "Requirement already satisfied: tqdm in c:\\users\\jessica\\appdata\\local\\programs\\python\\python311\\lib\\site-packages (from nltk) (4.66.5)\n",
      "Requirement already satisfied: colorama in c:\\users\\jessica\\appdata\\local\\programs\\python\\python311\\lib\\site-packages (from click->nltk) (0.4.6)\n",
      "Requirement already satisfied: nltk in c:\\users\\jessica\\appdata\\local\\programs\\python\\python311\\lib\\site-packages (3.9.1)\n",
      "Requirement already satisfied: textblob in c:\\users\\jessica\\appdata\\local\\programs\\python\\python311\\lib\\site-packages (0.19.0)\n",
      "Requirement already satisfied: speechrecognition in c:\\users\\jessica\\appdata\\local\\programs\\python\\python311\\lib\\site-packages (3.14.3)\n",
      "Requirement already satisfied: click in c:\\users\\jessica\\appdata\\local\\programs\\python\\python311\\lib\\site-packages (from nltk) (8.1.7)\n",
      "Requirement already satisfied: joblib in c:\\users\\jessica\\appdata\\local\\programs\\python\\python311\\lib\\site-packages (from nltk) (1.5.0)\n",
      "Requirement already satisfied: regex>=2021.8.3 in c:\\users\\jessica\\appdata\\local\\programs\\python\\python311\\lib\\site-packages (from nltk) (2024.9.11)\n",
      "Requirement already satisfied: tqdm in c:\\users\\jessica\\appdata\\local\\programs\\python\\python311\\lib\\site-packages (from nltk) (4.66.5)\n",
      "Requirement already satisfied: typing-extensions in c:\\users\\jessica\\appdata\\local\\programs\\python\\python311\\lib\\site-packages (from speechrecognition) (4.12.2)\n",
      "Requirement already satisfied: colorama in c:\\users\\jessica\\appdata\\local\\programs\\python\\python311\\lib\\site-packages (from click->nltk) (0.4.6)\n"
     ]
    }
   ],
   "source": [
    "!pip install nltk textblob\n",
    "!pip install nltk textblob speechrecognition"
   ]
  },
  {
   "cell_type": "code",
   "execution_count": null,
   "id": "3de998f4",
   "metadata": {},
   "outputs": [],
   "source": []
  },
  {
   "cell_type": "code",
   "execution_count": null,
   "id": "81cfe6c2",
   "metadata": {},
   "outputs": [],
   "source": [
    "import nltk\n",
    "from textblob import TextBlob\n",
    "from nltk.chat.util import Chat, reflections"
   ]
  },
  {
   "cell_type": "code",
   "execution_count": null,
   "id": "fdc49e6b",
   "metadata": {},
   "outputs": [],
   "source": [
    "nltk.download('stopwords')\n",
    "nltk.download('punkt')"
   ]
  },
  {
   "cell_type": "code",
   "execution_count": null,
   "id": "c9b7538c",
   "metadata": {},
   "outputs": [],
   "source": [
    "pares = [\n",
    "    ['Oi', ['Olá!', 'Olá, como posso ajudar?']],\n",
    "    ['Como você está?', ['Estou bem, obrigado. E você?', 'Tudo bem!']],\n",
    "    ['Quem é você?', ['Sou seu professor virtual.', 'Me chame de Prof.']],\n",
    "    ['Qual é o seu objetivo?', ['Meu objetivo é ajudar a responder suas perguntas.', 'Estou aqui para te ensinar.']],\n",
    "    ['Qual é o seu nome?', ['Meu nome é Chatbot.', 'Você pode me chamar de Chatbot.']],\n",
    "]"
   ]
  },
  {
   "cell_type": "code",
   "execution_count": null,
   "id": "d65ed76a",
   "metadata": {},
   "outputs": [],
   "source": []
  },
  {
   "cell_type": "code",
   "execution_count": 9,
   "id": "ae753506",
   "metadata": {},
   "outputs": [
    {
     "ename": "NameError",
     "evalue": "name 'Chat' is not defined",
     "output_type": "error",
     "traceback": [
      "\u001b[31m---------------------------------------------------------------------------\u001b[39m",
      "\u001b[31mNameError\u001b[39m                                 Traceback (most recent call last)",
      "\u001b[36mCell\u001b[39m\u001b[36m \u001b[39m\u001b[32mIn[9]\u001b[39m\u001b[32m, line 1\u001b[39m\n\u001b[32m----> \u001b[39m\u001b[32m1\u001b[39m chatbot = \u001b[43mChat\u001b[49m(pares, reflections)\n",
      "\u001b[31mNameError\u001b[39m: name 'Chat' is not defined"
     ]
    }
   ],
   "source": [
    "chatbot = Chat(pares, reflections)"
   ]
  },
  {
   "cell_type": "code",
   "execution_count": null,
   "id": "3da88baa",
   "metadata": {},
   "outputs": [],
   "source": []
  }
 ],
 "metadata": {
  "kernelspec": {
   "display_name": "Python 3",
   "language": "python",
   "name": "python3"
  },
  "language_info": {
   "codemirror_mode": {
    "name": "ipython",
    "version": 3
   },
   "file_extension": ".py",
   "mimetype": "text/x-python",
   "name": "python",
   "nbconvert_exporter": "python",
   "pygments_lexer": "ipython3",
   "version": "3.11.9"
  }
 },
 "nbformat": 4,
 "nbformat_minor": 5
}
